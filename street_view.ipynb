{
 "cells": [
  {
   "cell_type": "markdown",
   "id": "5f062710-9305-48f1-940b-dabdc79ed62e",
   "metadata": {},
   "source": [
    "# Packages"
   ]
  },
  {
   "cell_type": "code",
   "execution_count": 1,
   "id": "7c617da4-293e-47ee-b88f-a01802b5e647",
   "metadata": {},
   "outputs": [],
   "source": [
    "# Data analysis and Excel reading\n",
    "import pandas as pd\n",
    "\n",
    "# Load environment variables from .env file\n",
    "from dotenv import load_dotenv\n",
    "\n",
    "# File and directory operations\n",
    "import os\n",
    "\n",
    "# Send HTTP requests (e.g., to Google Street View API)\n",
    "import requests\n",
    "\n",
    "# Image processing (OpenCV)\n",
    "import cv2\n",
    "\n",
    "# Display images and HTML in Jupyter notebooks\n",
    "from IPython.display import Image, display, HTML\n",
    "\n",
    "# Excel file manipulation and styling\n",
    "from openpyxl import load_workbook\n",
    "from openpyxl.styles import Alignment"
   ]
  },
  {
   "cell_type": "markdown",
   "id": "097a1cf5-16ef-4bc8-8c53-d5b6423652df",
   "metadata": {},
   "source": [
    "# Download Street View images"
   ]
  },
  {
   "cell_type": "markdown",
   "id": "533f0b39-cf9c-40ab-b2ab-12e8827f1fc6",
   "metadata": {},
   "source": [
    "Google Street View images were automatically downloaded using the Street View Static API for multiple georeferenced locations, based on latitude and longitude coordinates extracted from an Excel file.\n",
    "\n",
    "For each central point of the selected street segment, images were captured in eight different directions, spaced every 30 degrees to cover the full 360-degree view around the location. The images were obtained with a standard resolution of 640x640 pixels, a field of view of 60 degrees, and a fixed pitch angle of zero.\n",
    "\n",
    "All images were stored locally in folders organized by location ID."
   ]
  },
  {
   "cell_type": "markdown",
   "id": "44f689ff-f26d-48f1-9cf3-273c19c10a6d",
   "metadata": {},
   "source": [
    "## Parameters"
   ]
  },
  {
   "cell_type": "code",
   "execution_count": 9,
   "id": "77b5c483-35af-42dd-a572-4cefd78cf56c",
   "metadata": {},
   "outputs": [],
   "source": [
    "# Authenticate requests to the Google API\n",
    "\n",
    "load_dotenv(\"api_key.env\")\n",
    "api_key = os.getenv(\"GOOGLE_API_KEY\")"
   ]
  },
  {
   "cell_type": "code",
   "execution_count": 10,
   "id": "27147a19-61d4-4788-a4dc-32b1f6fa5ba3",
   "metadata": {},
   "outputs": [],
   "source": [
    "# Image size (width x height)\n",
    "size = \"640x640\"\n",
    "\n",
    "# Camera pitch (vertical angle)\n",
    "pitch = 0\n",
    "\n",
    "# Field of view (horizontal angle)\n",
    "fov = 60\n",
    "\n",
    "# Headings (camera directions in degrees)\n",
    "# List of headings every 30 degrees around 360°\n",
    "headings = [i for i in range(0, 360, 30)]"
   ]
  },
  {
   "cell_type": "markdown",
   "id": "adf78b2b-5772-4c5d-9df6-792b323b5aad",
   "metadata": {},
   "source": [
    "## Download function"
   ]
  },
  {
   "cell_type": "code",
   "execution_count": 12,
   "id": "bffb135e-1ea1-4c0e-81df-646cf2e3d822",
   "metadata": {},
   "outputs": [
    {
     "name": "stdout",
     "output_type": "stream",
     "text": [
      "✅ Downloading completed for ID: 562002001\n",
      "✅ Downloading completed for ID: 562002002\n",
      "✅ Downloading completed for ID: 562002003\n",
      "✅ Downloading completed for ID: 562002004\n"
     ]
    },
    {
     "ename": "KeyboardInterrupt",
     "evalue": "",
     "output_type": "error",
     "traceback": [
      "\u001b[31m---------------------------------------------------------------------------\u001b[39m",
      "\u001b[31mKeyboardInterrupt\u001b[39m                         Traceback (most recent call last)",
      "\u001b[36mCell\u001b[39m\u001b[36m \u001b[39m\u001b[32mIn[12]\u001b[39m\u001b[32m, line 45\u001b[39m\n\u001b[32m     43\u001b[39m \u001b[38;5;28;01mfor\u001b[39;00m location_id, lat, lon \u001b[38;5;129;01min\u001b[39;00m coordinates:\n\u001b[32m     44\u001b[39m     folder = os.path.join(output_base_folder, \u001b[38;5;28mstr\u001b[39m(location_id))\n\u001b[32m---> \u001b[39m\u001b[32m45\u001b[39m     success, _ = download_images(location_id, df[\u001b[33m'\u001b[39m\u001b[33mlat_medio\u001b[39m\u001b[33m'\u001b[39m], df[\u001b[33m'\u001b[39m\u001b[33mlon_medio\u001b[39m\u001b[33m'\u001b[39m], folder)\n\u001b[32m     46\u001b[39m     \u001b[38;5;28;01mif\u001b[39;00m success:\n\u001b[32m     47\u001b[39m         \u001b[38;5;28mprint\u001b[39m(\u001b[33mf\u001b[39m\u001b[33m\"\u001b[39m\u001b[33m✅ Downloading completed for ID: \u001b[39m\u001b[38;5;132;01m{\u001b[39;00mlocation_id\u001b[38;5;132;01m}\u001b[39;00m\u001b[33m\"\u001b[39m)\n",
      "\u001b[36mCell\u001b[39m\u001b[36m \u001b[39m\u001b[32mIn[12]\u001b[39m\u001b[32m, line 21\u001b[39m, in \u001b[36mdownload_images\u001b[39m\u001b[34m(location_id, lat, lon, output_folder)\u001b[39m\n\u001b[32m     12\u001b[39m \u001b[38;5;28;01mif\u001b[39;00m \u001b[38;5;129;01mnot\u001b[39;00m os.path.exists(filename):\n\u001b[32m     13\u001b[39m     params = {\n\u001b[32m     14\u001b[39m         \u001b[33m\"\u001b[39m\u001b[33mkey\u001b[39m\u001b[33m\"\u001b[39m: api_key,\n\u001b[32m     15\u001b[39m         \u001b[33m\"\u001b[39m\u001b[33msize\u001b[39m\u001b[33m\"\u001b[39m: size,\n\u001b[32m   (...)\u001b[39m\u001b[32m     19\u001b[39m         \u001b[33m\"\u001b[39m\u001b[33mlocation\u001b[39m\u001b[33m\"\u001b[39m: \u001b[33mf\u001b[39m\u001b[33m\"\u001b[39m\u001b[38;5;132;01m{\u001b[39;00mlat\u001b[38;5;132;01m}\u001b[39;00m\u001b[33m,\u001b[39m\u001b[38;5;132;01m{\u001b[39;00mlon\u001b[38;5;132;01m}\u001b[39;00m\u001b[33m\"\u001b[39m\n\u001b[32m     20\u001b[39m     }\n\u001b[32m---> \u001b[39m\u001b[32m21\u001b[39m     response = requests.get(base_url, params=params)\n\u001b[32m     23\u001b[39m     \u001b[38;5;28;01mif\u001b[39;00m response.status_code == \u001b[32m200\u001b[39m:\n\u001b[32m     24\u001b[39m         \u001b[38;5;28;01mwith\u001b[39;00m \u001b[38;5;28mopen\u001b[39m(filename, \u001b[33m\"\u001b[39m\u001b[33mwb\u001b[39m\u001b[33m\"\u001b[39m) \u001b[38;5;28;01mas\u001b[39;00m f:\n",
      "\u001b[36mFile \u001b[39m\u001b[32m~\\miniconda3\\Lib\\site-packages\\requests\\api.py:73\u001b[39m, in \u001b[36mget\u001b[39m\u001b[34m(url, params, **kwargs)\u001b[39m\n\u001b[32m     62\u001b[39m \u001b[38;5;28;01mdef\u001b[39;00m\u001b[38;5;250m \u001b[39m\u001b[34mget\u001b[39m(url, params=\u001b[38;5;28;01mNone\u001b[39;00m, **kwargs):\n\u001b[32m     63\u001b[39m \u001b[38;5;250m    \u001b[39m\u001b[33mr\u001b[39m\u001b[33;03m\"\"\"Sends a GET request.\u001b[39;00m\n\u001b[32m     64\u001b[39m \n\u001b[32m     65\u001b[39m \u001b[33;03m    :param url: URL for the new :class:`Request` object.\u001b[39;00m\n\u001b[32m   (...)\u001b[39m\u001b[32m     70\u001b[39m \u001b[33;03m    :rtype: requests.Response\u001b[39;00m\n\u001b[32m     71\u001b[39m \u001b[33;03m    \"\"\"\u001b[39;00m\n\u001b[32m---> \u001b[39m\u001b[32m73\u001b[39m     \u001b[38;5;28;01mreturn\u001b[39;00m request(\u001b[33m\"\u001b[39m\u001b[33mget\u001b[39m\u001b[33m\"\u001b[39m, url, params=params, **kwargs)\n",
      "\u001b[36mFile \u001b[39m\u001b[32m~\\miniconda3\\Lib\\site-packages\\requests\\api.py:59\u001b[39m, in \u001b[36mrequest\u001b[39m\u001b[34m(method, url, **kwargs)\u001b[39m\n\u001b[32m     55\u001b[39m \u001b[38;5;66;03m# By using the 'with' statement we are sure the session is closed, thus we\u001b[39;00m\n\u001b[32m     56\u001b[39m \u001b[38;5;66;03m# avoid leaving sockets open which can trigger a ResourceWarning in some\u001b[39;00m\n\u001b[32m     57\u001b[39m \u001b[38;5;66;03m# cases, and look like a memory leak in others.\u001b[39;00m\n\u001b[32m     58\u001b[39m \u001b[38;5;28;01mwith\u001b[39;00m sessions.Session() \u001b[38;5;28;01mas\u001b[39;00m session:\n\u001b[32m---> \u001b[39m\u001b[32m59\u001b[39m     \u001b[38;5;28;01mreturn\u001b[39;00m session.request(method=method, url=url, **kwargs)\n",
      "\u001b[36mFile \u001b[39m\u001b[32m~\\miniconda3\\Lib\\site-packages\\requests\\sessions.py:589\u001b[39m, in \u001b[36mSession.request\u001b[39m\u001b[34m(self, method, url, params, data, headers, cookies, files, auth, timeout, allow_redirects, proxies, hooks, stream, verify, cert, json)\u001b[39m\n\u001b[32m    584\u001b[39m send_kwargs = {\n\u001b[32m    585\u001b[39m     \u001b[33m\"\u001b[39m\u001b[33mtimeout\u001b[39m\u001b[33m\"\u001b[39m: timeout,\n\u001b[32m    586\u001b[39m     \u001b[33m\"\u001b[39m\u001b[33mallow_redirects\u001b[39m\u001b[33m\"\u001b[39m: allow_redirects,\n\u001b[32m    587\u001b[39m }\n\u001b[32m    588\u001b[39m send_kwargs.update(settings)\n\u001b[32m--> \u001b[39m\u001b[32m589\u001b[39m resp = \u001b[38;5;28mself\u001b[39m.send(prep, **send_kwargs)\n\u001b[32m    591\u001b[39m \u001b[38;5;28;01mreturn\u001b[39;00m resp\n",
      "\u001b[36mFile \u001b[39m\u001b[32m~\\miniconda3\\Lib\\site-packages\\requests\\sessions.py:703\u001b[39m, in \u001b[36mSession.send\u001b[39m\u001b[34m(self, request, **kwargs)\u001b[39m\n\u001b[32m    700\u001b[39m start = preferred_clock()\n\u001b[32m    702\u001b[39m \u001b[38;5;66;03m# Send the request\u001b[39;00m\n\u001b[32m--> \u001b[39m\u001b[32m703\u001b[39m r = adapter.send(request, **kwargs)\n\u001b[32m    705\u001b[39m \u001b[38;5;66;03m# Total elapsed time of the request (approximately)\u001b[39;00m\n\u001b[32m    706\u001b[39m elapsed = preferred_clock() - start\n",
      "\u001b[36mFile \u001b[39m\u001b[32m~\\miniconda3\\Lib\\site-packages\\requests\\adapters.py:667\u001b[39m, in \u001b[36mHTTPAdapter.send\u001b[39m\u001b[34m(self, request, stream, timeout, verify, cert, proxies)\u001b[39m\n\u001b[32m    664\u001b[39m     timeout = TimeoutSauce(connect=timeout, read=timeout)\n\u001b[32m    666\u001b[39m \u001b[38;5;28;01mtry\u001b[39;00m:\n\u001b[32m--> \u001b[39m\u001b[32m667\u001b[39m     resp = conn.urlopen(\n\u001b[32m    668\u001b[39m         method=request.method,\n\u001b[32m    669\u001b[39m         url=url,\n\u001b[32m    670\u001b[39m         body=request.body,\n\u001b[32m    671\u001b[39m         headers=request.headers,\n\u001b[32m    672\u001b[39m         redirect=\u001b[38;5;28;01mFalse\u001b[39;00m,\n\u001b[32m    673\u001b[39m         assert_same_host=\u001b[38;5;28;01mFalse\u001b[39;00m,\n\u001b[32m    674\u001b[39m         preload_content=\u001b[38;5;28;01mFalse\u001b[39;00m,\n\u001b[32m    675\u001b[39m         decode_content=\u001b[38;5;28;01mFalse\u001b[39;00m,\n\u001b[32m    676\u001b[39m         retries=\u001b[38;5;28mself\u001b[39m.max_retries,\n\u001b[32m    677\u001b[39m         timeout=timeout,\n\u001b[32m    678\u001b[39m         chunked=chunked,\n\u001b[32m    679\u001b[39m     )\n\u001b[32m    681\u001b[39m \u001b[38;5;28;01mexcept\u001b[39;00m (ProtocolError, \u001b[38;5;167;01mOSError\u001b[39;00m) \u001b[38;5;28;01mas\u001b[39;00m err:\n\u001b[32m    682\u001b[39m     \u001b[38;5;28;01mraise\u001b[39;00m \u001b[38;5;167;01mConnectionError\u001b[39;00m(err, request=request)\n",
      "\u001b[36mFile \u001b[39m\u001b[32m~\\miniconda3\\Lib\\site-packages\\urllib3\\connectionpool.py:787\u001b[39m, in \u001b[36mHTTPConnectionPool.urlopen\u001b[39m\u001b[34m(self, method, url, body, headers, retries, redirect, assert_same_host, timeout, pool_timeout, release_conn, chunked, body_pos, preload_content, decode_content, **response_kw)\u001b[39m\n\u001b[32m    784\u001b[39m response_conn = conn \u001b[38;5;28;01mif\u001b[39;00m \u001b[38;5;129;01mnot\u001b[39;00m release_conn \u001b[38;5;28;01melse\u001b[39;00m \u001b[38;5;28;01mNone\u001b[39;00m\n\u001b[32m    786\u001b[39m \u001b[38;5;66;03m# Make the request on the HTTPConnection object\u001b[39;00m\n\u001b[32m--> \u001b[39m\u001b[32m787\u001b[39m response = \u001b[38;5;28mself\u001b[39m._make_request(\n\u001b[32m    788\u001b[39m     conn,\n\u001b[32m    789\u001b[39m     method,\n\u001b[32m    790\u001b[39m     url,\n\u001b[32m    791\u001b[39m     timeout=timeout_obj,\n\u001b[32m    792\u001b[39m     body=body,\n\u001b[32m    793\u001b[39m     headers=headers,\n\u001b[32m    794\u001b[39m     chunked=chunked,\n\u001b[32m    795\u001b[39m     retries=retries,\n\u001b[32m    796\u001b[39m     response_conn=response_conn,\n\u001b[32m    797\u001b[39m     preload_content=preload_content,\n\u001b[32m    798\u001b[39m     decode_content=decode_content,\n\u001b[32m    799\u001b[39m     **response_kw,\n\u001b[32m    800\u001b[39m )\n\u001b[32m    802\u001b[39m \u001b[38;5;66;03m# Everything went great!\u001b[39;00m\n\u001b[32m    803\u001b[39m clean_exit = \u001b[38;5;28;01mTrue\u001b[39;00m\n",
      "\u001b[36mFile \u001b[39m\u001b[32m~\\miniconda3\\Lib\\site-packages\\urllib3\\connectionpool.py:464\u001b[39m, in \u001b[36mHTTPConnectionPool._make_request\u001b[39m\u001b[34m(self, conn, method, url, body, headers, retries, timeout, chunked, response_conn, preload_content, decode_content, enforce_content_length)\u001b[39m\n\u001b[32m    461\u001b[39m \u001b[38;5;28;01mtry\u001b[39;00m:\n\u001b[32m    462\u001b[39m     \u001b[38;5;66;03m# Trigger any extra validation we need to do.\u001b[39;00m\n\u001b[32m    463\u001b[39m     \u001b[38;5;28;01mtry\u001b[39;00m:\n\u001b[32m--> \u001b[39m\u001b[32m464\u001b[39m         \u001b[38;5;28mself\u001b[39m._validate_conn(conn)\n\u001b[32m    465\u001b[39m     \u001b[38;5;28;01mexcept\u001b[39;00m (SocketTimeout, BaseSSLError) \u001b[38;5;28;01mas\u001b[39;00m e:\n\u001b[32m    466\u001b[39m         \u001b[38;5;28mself\u001b[39m._raise_timeout(err=e, url=url, timeout_value=conn.timeout)\n",
      "\u001b[36mFile \u001b[39m\u001b[32m~\\miniconda3\\Lib\\site-packages\\urllib3\\connectionpool.py:1093\u001b[39m, in \u001b[36mHTTPSConnectionPool._validate_conn\u001b[39m\u001b[34m(self, conn)\u001b[39m\n\u001b[32m   1091\u001b[39m \u001b[38;5;66;03m# Force connect early to allow us to validate the connection.\u001b[39;00m\n\u001b[32m   1092\u001b[39m \u001b[38;5;28;01mif\u001b[39;00m conn.is_closed:\n\u001b[32m-> \u001b[39m\u001b[32m1093\u001b[39m     conn.connect()\n\u001b[32m   1095\u001b[39m \u001b[38;5;66;03m# TODO revise this, see https://github.com/urllib3/urllib3/issues/2791\u001b[39;00m\n\u001b[32m   1096\u001b[39m \u001b[38;5;28;01mif\u001b[39;00m \u001b[38;5;129;01mnot\u001b[39;00m conn.is_verified \u001b[38;5;129;01mand\u001b[39;00m \u001b[38;5;129;01mnot\u001b[39;00m conn.proxy_is_verified:\n",
      "\u001b[36mFile \u001b[39m\u001b[32m~\\miniconda3\\Lib\\site-packages\\urllib3\\connection.py:741\u001b[39m, in \u001b[36mHTTPSConnection.connect\u001b[39m\u001b[34m(self)\u001b[39m\n\u001b[32m    738\u001b[39m     \u001b[38;5;66;03m# Remove trailing '.' from fqdn hostnames to allow certificate validation\u001b[39;00m\n\u001b[32m    739\u001b[39m     server_hostname_rm_dot = server_hostname.rstrip(\u001b[33m\"\u001b[39m\u001b[33m.\u001b[39m\u001b[33m\"\u001b[39m)\n\u001b[32m--> \u001b[39m\u001b[32m741\u001b[39m     sock_and_verified = _ssl_wrap_socket_and_match_hostname(\n\u001b[32m    742\u001b[39m         sock=sock,\n\u001b[32m    743\u001b[39m         cert_reqs=\u001b[38;5;28mself\u001b[39m.cert_reqs,\n\u001b[32m    744\u001b[39m         ssl_version=\u001b[38;5;28mself\u001b[39m.ssl_version,\n\u001b[32m    745\u001b[39m         ssl_minimum_version=\u001b[38;5;28mself\u001b[39m.ssl_minimum_version,\n\u001b[32m    746\u001b[39m         ssl_maximum_version=\u001b[38;5;28mself\u001b[39m.ssl_maximum_version,\n\u001b[32m    747\u001b[39m         ca_certs=\u001b[38;5;28mself\u001b[39m.ca_certs,\n\u001b[32m    748\u001b[39m         ca_cert_dir=\u001b[38;5;28mself\u001b[39m.ca_cert_dir,\n\u001b[32m    749\u001b[39m         ca_cert_data=\u001b[38;5;28mself\u001b[39m.ca_cert_data,\n\u001b[32m    750\u001b[39m         cert_file=\u001b[38;5;28mself\u001b[39m.cert_file,\n\u001b[32m    751\u001b[39m         key_file=\u001b[38;5;28mself\u001b[39m.key_file,\n\u001b[32m    752\u001b[39m         key_password=\u001b[38;5;28mself\u001b[39m.key_password,\n\u001b[32m    753\u001b[39m         server_hostname=server_hostname_rm_dot,\n\u001b[32m    754\u001b[39m         ssl_context=\u001b[38;5;28mself\u001b[39m.ssl_context,\n\u001b[32m    755\u001b[39m         tls_in_tls=tls_in_tls,\n\u001b[32m    756\u001b[39m         assert_hostname=\u001b[38;5;28mself\u001b[39m.assert_hostname,\n\u001b[32m    757\u001b[39m         assert_fingerprint=\u001b[38;5;28mself\u001b[39m.assert_fingerprint,\n\u001b[32m    758\u001b[39m     )\n\u001b[32m    759\u001b[39m     \u001b[38;5;28mself\u001b[39m.sock = sock_and_verified.socket\n\u001b[32m    761\u001b[39m \u001b[38;5;66;03m# If an error occurs during connection/handshake we may need to release\u001b[39;00m\n\u001b[32m    762\u001b[39m \u001b[38;5;66;03m# our lock so another connection can probe the origin.\u001b[39;00m\n",
      "\u001b[36mFile \u001b[39m\u001b[32m~\\miniconda3\\Lib\\site-packages\\urllib3\\connection.py:920\u001b[39m, in \u001b[36m_ssl_wrap_socket_and_match_hostname\u001b[39m\u001b[34m(sock, cert_reqs, ssl_version, ssl_minimum_version, ssl_maximum_version, cert_file, key_file, key_password, ca_certs, ca_cert_dir, ca_cert_data, assert_hostname, assert_fingerprint, server_hostname, ssl_context, tls_in_tls)\u001b[39m\n\u001b[32m    917\u001b[39m     \u001b[38;5;28;01mif\u001b[39;00m is_ipaddress(normalized):\n\u001b[32m    918\u001b[39m         server_hostname = normalized\n\u001b[32m--> \u001b[39m\u001b[32m920\u001b[39m ssl_sock = ssl_wrap_socket(\n\u001b[32m    921\u001b[39m     sock=sock,\n\u001b[32m    922\u001b[39m     keyfile=key_file,\n\u001b[32m    923\u001b[39m     certfile=cert_file,\n\u001b[32m    924\u001b[39m     key_password=key_password,\n\u001b[32m    925\u001b[39m     ca_certs=ca_certs,\n\u001b[32m    926\u001b[39m     ca_cert_dir=ca_cert_dir,\n\u001b[32m    927\u001b[39m     ca_cert_data=ca_cert_data,\n\u001b[32m    928\u001b[39m     server_hostname=server_hostname,\n\u001b[32m    929\u001b[39m     ssl_context=context,\n\u001b[32m    930\u001b[39m     tls_in_tls=tls_in_tls,\n\u001b[32m    931\u001b[39m )\n\u001b[32m    933\u001b[39m \u001b[38;5;28;01mtry\u001b[39;00m:\n\u001b[32m    934\u001b[39m     \u001b[38;5;28;01mif\u001b[39;00m assert_fingerprint:\n",
      "\u001b[36mFile \u001b[39m\u001b[32m~\\miniconda3\\Lib\\site-packages\\urllib3\\util\\ssl_.py:460\u001b[39m, in \u001b[36mssl_wrap_socket\u001b[39m\u001b[34m(sock, keyfile, certfile, cert_reqs, ca_certs, server_hostname, ssl_version, ciphers, ssl_context, ca_cert_dir, key_password, ca_cert_data, tls_in_tls)\u001b[39m\n\u001b[32m    456\u001b[39m         context.load_cert_chain(certfile, keyfile, key_password)\n\u001b[32m    458\u001b[39m context.set_alpn_protocols(ALPN_PROTOCOLS)\n\u001b[32m--> \u001b[39m\u001b[32m460\u001b[39m ssl_sock = _ssl_wrap_socket_impl(sock, context, tls_in_tls, server_hostname)\n\u001b[32m    461\u001b[39m \u001b[38;5;28;01mreturn\u001b[39;00m ssl_sock\n",
      "\u001b[36mFile \u001b[39m\u001b[32m~\\miniconda3\\Lib\\site-packages\\urllib3\\util\\ssl_.py:504\u001b[39m, in \u001b[36m_ssl_wrap_socket_impl\u001b[39m\u001b[34m(sock, ssl_context, tls_in_tls, server_hostname)\u001b[39m\n\u001b[32m    501\u001b[39m     SSLTransport._validate_ssl_context_for_tls_in_tls(ssl_context)\n\u001b[32m    502\u001b[39m     \u001b[38;5;28;01mreturn\u001b[39;00m SSLTransport(sock, ssl_context, server_hostname)\n\u001b[32m--> \u001b[39m\u001b[32m504\u001b[39m \u001b[38;5;28;01mreturn\u001b[39;00m ssl_context.wrap_socket(sock, server_hostname=server_hostname)\n",
      "\u001b[36mFile \u001b[39m\u001b[32m~\\miniconda3\\Lib\\ssl.py:455\u001b[39m, in \u001b[36mSSLContext.wrap_socket\u001b[39m\u001b[34m(self, sock, server_side, do_handshake_on_connect, suppress_ragged_eofs, server_hostname, session)\u001b[39m\n\u001b[32m    449\u001b[39m \u001b[38;5;28;01mdef\u001b[39;00m\u001b[38;5;250m \u001b[39m\u001b[34mwrap_socket\u001b[39m(\u001b[38;5;28mself\u001b[39m, sock, server_side=\u001b[38;5;28;01mFalse\u001b[39;00m,\n\u001b[32m    450\u001b[39m                 do_handshake_on_connect=\u001b[38;5;28;01mTrue\u001b[39;00m,\n\u001b[32m    451\u001b[39m                 suppress_ragged_eofs=\u001b[38;5;28;01mTrue\u001b[39;00m,\n\u001b[32m    452\u001b[39m                 server_hostname=\u001b[38;5;28;01mNone\u001b[39;00m, session=\u001b[38;5;28;01mNone\u001b[39;00m):\n\u001b[32m    453\u001b[39m     \u001b[38;5;66;03m# SSLSocket class handles server_hostname encoding before it calls\u001b[39;00m\n\u001b[32m    454\u001b[39m     \u001b[38;5;66;03m# ctx._wrap_socket()\u001b[39;00m\n\u001b[32m--> \u001b[39m\u001b[32m455\u001b[39m     \u001b[38;5;28;01mreturn\u001b[39;00m \u001b[38;5;28mself\u001b[39m.sslsocket_class._create(\n\u001b[32m    456\u001b[39m         sock=sock,\n\u001b[32m    457\u001b[39m         server_side=server_side,\n\u001b[32m    458\u001b[39m         do_handshake_on_connect=do_handshake_on_connect,\n\u001b[32m    459\u001b[39m         suppress_ragged_eofs=suppress_ragged_eofs,\n\u001b[32m    460\u001b[39m         server_hostname=server_hostname,\n\u001b[32m    461\u001b[39m         context=\u001b[38;5;28mself\u001b[39m,\n\u001b[32m    462\u001b[39m         session=session\n\u001b[32m    463\u001b[39m     )\n",
      "\u001b[36mFile \u001b[39m\u001b[32m~\\miniconda3\\Lib\\ssl.py:1076\u001b[39m, in \u001b[36mSSLSocket._create\u001b[39m\u001b[34m(cls, sock, server_side, do_handshake_on_connect, suppress_ragged_eofs, server_hostname, context, session)\u001b[39m\n\u001b[32m   1073\u001b[39m             \u001b[38;5;28;01mif\u001b[39;00m timeout == \u001b[32m0.0\u001b[39m:\n\u001b[32m   1074\u001b[39m                 \u001b[38;5;66;03m# non-blocking\u001b[39;00m\n\u001b[32m   1075\u001b[39m                 \u001b[38;5;28;01mraise\u001b[39;00m \u001b[38;5;167;01mValueError\u001b[39;00m(\u001b[33m\"\u001b[39m\u001b[33mdo_handshake_on_connect should not be specified for non-blocking sockets\u001b[39m\u001b[33m\"\u001b[39m)\n\u001b[32m-> \u001b[39m\u001b[32m1076\u001b[39m             \u001b[38;5;28mself\u001b[39m.do_handshake()\n\u001b[32m   1077\u001b[39m \u001b[38;5;28;01mexcept\u001b[39;00m:\n\u001b[32m   1078\u001b[39m     \u001b[38;5;28;01mtry\u001b[39;00m:\n",
      "\u001b[36mFile \u001b[39m\u001b[32m~\\miniconda3\\Lib\\ssl.py:1372\u001b[39m, in \u001b[36mSSLSocket.do_handshake\u001b[39m\u001b[34m(self, block)\u001b[39m\n\u001b[32m   1370\u001b[39m     \u001b[38;5;28;01mif\u001b[39;00m timeout == \u001b[32m0.0\u001b[39m \u001b[38;5;129;01mand\u001b[39;00m block:\n\u001b[32m   1371\u001b[39m         \u001b[38;5;28mself\u001b[39m.settimeout(\u001b[38;5;28;01mNone\u001b[39;00m)\n\u001b[32m-> \u001b[39m\u001b[32m1372\u001b[39m     \u001b[38;5;28mself\u001b[39m._sslobj.do_handshake()\n\u001b[32m   1373\u001b[39m \u001b[38;5;28;01mfinally\u001b[39;00m:\n\u001b[32m   1374\u001b[39m     \u001b[38;5;28mself\u001b[39m.settimeout(timeout)\n",
      "\u001b[31mKeyboardInterrupt\u001b[39m: "
     ]
    }
   ],
   "source": [
    "def download_images(location_id, lat, lon, output_folder):\n",
    "    if not os.path.exists(output_folder):\n",
    "        os.makedirs(output_folder)\n",
    "\n",
    "    base_url = \"https://maps.googleapis.com/maps/api/streetview\"\n",
    "    image_paths = []\n",
    "    success = False\n",
    "\n",
    "    for heading in headings:\n",
    "        filename = os.path.join(output_folder, f\"{location_id}_h{heading}.jpg\")\n",
    "\n",
    "        if not os.path.exists(filename):\n",
    "            params = {\n",
    "                \"key\": api_key,\n",
    "                \"size\": size,\n",
    "                \"pitch\": pitch,\n",
    "                \"fov\": fov,\n",
    "                \"heading\": heading,\n",
    "                \"location\": f\"{lat},{lon}\"\n",
    "            }\n",
    "            response = requests.get(base_url, params=params)\n",
    "\n",
    "            if response.status_code == 200:\n",
    "                with open(filename, \"wb\") as f:\n",
    "                    f.write(response.content)\n",
    "                image_paths.append(filename)\n",
    "                success = True\n",
    "            elif response.status_code != 404:\n",
    "                print(f\"❌ Error {response.status_code} at ID {location_id} | Heading: {heading}\")\n",
    "        else:\n",
    "            image_paths.append(filename)\n",
    "            success = True\n",
    "\n",
    "    return success, sorted(list(set(image_paths)))\n",
    "\n",
    "output_base_folder = \"street_view_images\"\n",
    "\n",
    "excel_file = \"coordinates.xlsx\"\n",
    "df = pd.read_excel(excel_file)\n",
    "\n",
    "coordinates = list(zip(df['id'], df['lat_medio'], df['lon_medio']))\n",
    "\n",
    "for location_id, lat, lon in coordinates:\n",
    "    folder = os.path.join(output_base_folder, str(location_id))\n",
    "    success, _ = download_images(location_id, df['lat_medio'], df['lon_medio'], folder)\n",
    "    if success:\n",
    "        print(f\"✅ Downloading completed for ID: {location_id}\")\n",
    "    else:\n",
    "        print(f\"⚠️ No images found or all requests failed for ID: {location_id}\")"
   ]
  },
  {
   "cell_type": "code",
   "execution_count": 13,
   "id": "7b9367af-f6b8-4c37-9bc6-0dcd728751f1",
   "metadata": {},
   "outputs": [
    {
     "name": "stdout",
     "output_type": "stream",
     "text": [
      "['id', 'field', 'coordenadas_medio', 'lat_medio', 'lon_medio']\n"
     ]
    }
   ],
   "source": [
    "print(df.columns.tolist())"
   ]
  },
  {
   "cell_type": "markdown",
   "id": "1b48c889-0889-44f9-8667-a5cebbed480c",
   "metadata": {},
   "source": [
    "# Stitching"
   ]
  },
  {
   "cell_type": "markdown",
   "id": "5e23f54e-3550-491e-bb32-1df41e4a8090",
   "metadata": {},
   "source": [
    "After the download, the images obtained for each location were processed using a stitching algorithm to generate a 360-degree panoramic view of the surroundings from the central point. The individual images, captured in eight distinct directions, were loaded and automatically combined using the OpenCV library.\n",
    "\n",
    "The stitching function assessed the overlap between images and performed alignment and blending to produce a seamless composite image. When successful, the resulting panoramic image was cropped to remove unwanted margins and then saved locally under a filename corresponding to the location's unique ID. The stitched panoramas were stored in the same ID-organized folders used to save the original images."
   ]
  },
  {
   "cell_type": "code",
   "execution_count": null,
   "id": "8d213de9-151a-4fa7-b4c2-5bb5f61c145a",
   "metadata": {},
   "outputs": [],
   "source": [
    "def load_images(image_paths):\n",
    "    images = []\n",
    "    for path in image_paths:\n",
    "        img = cv2.imread(path)\n",
    "        if img is not None:\n",
    "            images.append(img)\n",
    "    return images\n",
    "\n",
    "def stitch_and_save(images, output_path, location_id):\n",
    "    if not images:\n",
    "        print(f\"❌ No valid images to stitch for ID: {location_id}\")\n",
    "        return\n",
    "\n",
    "    stitcher = getattr(cv2, \"Stitcher_create\", lambda: cv2.Stitcher.create(False))()\n",
    "    status, stitched = stitcher.stitch(images)\n",
    "\n",
    "    if status == 0:\n",
    "        margin = 15\n",
    "        h, w = stitched.shape[:2]\n",
    "        stitched_cropped = stitched[margin:h - margin, margin:w - margin]\n",
    "        cv2.imwrite(output_path, stitched_cropped)\n",
    "        print(f\"✅ Stitching completed for ID: {location_id}\")\n",
    "    else:\n",
    "        errors = {\n",
    "            -1: \"More images or better overlap needed.\",\n",
    "            -2: \"Global alignment failure.\",\n",
    "            -3: \"Homography estimation failure.\",\n",
    "            -4: \"Camera parameter adjustment failure.\"\n",
    "        }\n",
    "        print(f\"❌ Stitching failed for ID: {location_id} → {errors.get(status, f'Error {status}')}\")\n",
    "\n",
    "for location_id, lat, lon in coordinates:\n",
    "    folder = os.path.join(output_base_folder, str(location_id))\n",
    "    stitched_file = os.path.join(folder, f\"{location_id}.jpg\")\n",
    "\n",
    "    if os.path.exists(stitched_file):\n",
    "        print(f\"✅ Stitching completed for ID: {location_id}\")\n",
    "        continue\n",
    "\n",
    "    image_paths = [os.path.join(folder, f) for f in os.listdir(folder) if f.endswith(\".jpg\")]\n",
    "\n",
    "    imgs = load_images(image_paths)\n",
    "    stitch_and_save(imgs, stitched_file, location_id)"
   ]
  },
  {
   "cell_type": "markdown",
   "id": "e18aa731-97ff-47e6-b795-7751a4d866c7",
   "metadata": {},
   "source": [
    "# Get image date via the metadata API"
   ]
  },
  {
   "cell_type": "markdown",
   "id": "fdb5e892-132c-43ca-839e-663412042fe8",
   "metadata": {},
   "source": [
    "An automated extraction of image dates from Google Street View was performed using the Street View Metadata API, based on geographic coordinates retrieved from an Excel file. For each point, the date of the most recent available image was recorded. The results were stored in a new Excel file containing the fields: id, latitude, longitude, and date."
   ]
  },
  {
   "cell_type": "code",
   "execution_count": null,
   "id": "cf0f7f38-3b35-4ca7-8ccc-70c2ee9fe32b",
   "metadata": {},
   "outputs": [],
   "source": [
    "def get_metadata(lat, lon):\n",
    "    url = \"https://maps.googleapis.com/maps/api/streetview/metadata\"\n",
    "    params = {\n",
    "        \"location\": f\"{lat},{lon}\",\n",
    "        \"key\": api_key\n",
    "    }\n",
    "    response = requests.get(url, params=params)\n",
    "    if response.status_code == 200:\n",
    "        data = response.json()\n",
    "        return data.get(\"date\", \"Unknown\")\n",
    "    else:\n",
    "        return \"Error\"\n",
    "\n",
    "excel_file = \"coordinates.xlsx\"\n",
    "df = pd.read_excel(excel_file)\n",
    "\n",
    "output_file = \"street_view_dates.xlsx\"\n",
    "\n",
    "if os.path.exists(output_file):\n",
    "    existing_df = pd.read_excel(output_file)\n",
    "else:\n",
    "    existing_df = pd.DataFrame(columns=[\"id\", \"latitude\", \"longitude\", \"date\"])\n",
    "\n",
    "existing_df.set_index('id', inplace=True)\n",
    "\n",
    "for _, row in df.iterrows():\n",
    "    location_id = int(row['id'])\n",
    "    lat = row['latitude']\n",
    "    lon = row['longitude']\n",
    "\n",
    "    print(f\"✅ Date for ID: {location_id}\")\n",
    "\n",
    "    if location_id in existing_df.index and existing_df.loc[location_id, 'date'] not in ['Unknown', 'Error']:\n",
    "        continue\n",
    "\n",
    "    date = get_metadata(lat, lon)\n",
    "\n",
    "    existing_df.loc[location_id] = [lat, lon, date]\n",
    "\n",
    "existing_df.reset_index(inplace=True)\n",
    "existing_df.to_excel(output_file, index=False)\n",
    "\n",
    "wb = load_workbook(output_file)\n",
    "ws = wb.active\n",
    "\n",
    "alignment_center = Alignment(horizontal=\"center\", vertical=\"center\")\n",
    "\n",
    "for row in ws.iter_rows():\n",
    "    for cell in row:\n",
    "        cell.alignment = alignment_center\n",
    "\n",
    "wb.save(output_file)"
   ]
  }
 ],
 "metadata": {
  "kernelspec": {
   "display_name": "Python 3 (ipykernel)",
   "language": "python",
   "name": "python3"
  },
  "language_info": {
   "codemirror_mode": {
    "name": "ipython",
    "version": 3
   },
   "file_extension": ".py",
   "mimetype": "text/x-python",
   "name": "python",
   "nbconvert_exporter": "python",
   "pygments_lexer": "ipython3",
   "version": "3.13.2"
  }
 },
 "nbformat": 4,
 "nbformat_minor": 5
}
